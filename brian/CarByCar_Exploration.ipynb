{
 "cells": [
  {
   "cell_type": "code",
   "execution_count": null,
   "metadata": {
    "collapsed": true
   },
   "outputs": [],
   "source": [
    "import numpy as np\n",
    "import datetime\n",
    "from dateutil import tz\n",
    "import matplotlib.pyplot as plt\n",
    "import matplotlib\n",
    "import pandas as pd\n",
    "\n",
    "%matplotlib inline"
   ]
  },
  {
   "cell_type": "code",
   "execution_count": null,
   "metadata": {},
   "outputs": [],
   "source": [
    "def car1_loc_data(contents):\n",
    "    data_select=pd.DataFrame(columns=contents)\n",
    "    for n in np.arange(10):\n",
    "        print('n=',n,' of ten')\n",
    "        data_raw=pd.read_csv('~/data/5-Sanandaji/case_study_dt1.csv',nrows=100000,skiprows=range(1,n*100000))\n",
    "        data_raw = data_raw[contents]\n",
    "        data_select=pd.concat([data_select,data_raw])\n",
    "        del data_raw\n",
    "    return data_select"
   ]
  },
  {
   "cell_type": "code",
   "execution_count": null,
   "metadata": {
    "scrolled": true
   },
   "outputs": [],
   "source": [
    "# columns to try and identify when vehicles are refueled \n",
    "cols_gas = [\"source_id\", \"source_Vehicle_Location_Timestamp\", \"source_Vehicle_Speed_Unit\", \n",
    "            \"source_Vehicle_Speed_Value\", \"source_Vehicle_FuelLevel_Value\", \n",
    "            \"source_Vehicle_Location_Address_State\"]\n",
    "data_gas = car1_loc_data(cols_gas)\n",
    "# data_gas = pd.read_csv('~/data/5-Sanandaji/case_study_dt1.csv',sep=',', nrows=10000)\n",
    "list(data_gas)"
   ]
  },
  {
   "cell_type": "code",
   "execution_count": null,
   "metadata": {},
   "outputs": [],
   "source": [
    "sources = pd.read_csv(\"~/bcdata-mojio/brian/test1_sources.txt\")\n",
    "sources = sources[\"Car IDs\"].values"
   ]
  },
  {
   "cell_type": "code",
   "execution_count": null,
   "metadata": {},
   "outputs": [],
   "source": [
    "car_number = 2\n",
    "car_info = data_gas[data_gas[\"source_id\"]==sources[car_number]]\n",
    "Ncar = car_info.shape[0] # number of records for this car"
   ]
  },
  {
   "cell_type": "code",
   "execution_count": null,
   "metadata": {
    "scrolled": true
   },
   "outputs": [],
   "source": [
    "state = car_info[\"source_Vehicle_Location_Address_State\"].values\n",
    "print(np.unique(state))"
   ]
  },
  {
   "cell_type": "code",
   "execution_count": null,
   "metadata": {},
   "outputs": [],
   "source": [
    "state = car_info[\"source_Vehicle_Speed_Unit\"]\n",
    "print(np.unique(state.values))"
   ]
  },
  {
   "cell_type": "code",
   "execution_count": null,
   "metadata": {
    "collapsed": true
   },
   "outputs": [],
   "source": []
  },
  {
   "cell_type": "code",
   "execution_count": null,
   "metadata": {
    "scrolled": true
   },
   "outputs": [],
   "source": [
    "time_string = car_info[\"source_Vehicle_Location_Timestamp\"].values\n",
    "time_seconds = np.zeros(Ncar)\n",
    "for j in np.arange(Ncar):\n",
    "    code, t = get_time(time_string[j])\n",
    "    if code != 0:\n",
    "        print('Error',code,' in get_time')\n",
    "    time_seconds[j] = t\n",
    "plt.plot(np.arange(Ncar),time_seconds)\n",
    "plt.show()"
   ]
  },
  {
   "cell_type": "code",
   "execution_count": null,
   "metadata": {},
   "outputs": [],
   "source": [
    "speed = car_info[\"source_Vehicle_Speed_Value\"].values\n",
    "plt.plot(time_seconds/24/3600,speed,'ko')\n",
    "plt.show()"
   ]
  },
  {
   "cell_type": "code",
   "execution_count": null,
   "metadata": {
    "collapsed": true
   },
   "outputs": [],
   "source": [
    "# Routine takes time string from the data and gives back:\n",
    "# 1. flag = 0: for success, \n",
    "#           1: if the input is not a string, \n",
    "#           2: if it is not long enough\n",
    "# 2. seconds since February 1, 2016\n",
    "#\n",
    "def get_time(dxt):\n",
    "    err_flag = 0\n",
    "    delta_sec = 0\n",
    "    \n",
    "    dt0 = datetime.datetime(2016,6,9) # Measure time since February 1, 2016\n",
    "    \n",
    "    if not (type(dxt) is str):\n",
    "        err_flag = 1\n",
    "    elif len(dxt)<19:\n",
    "        err_flag = 2\n",
    "    else:\n",
    "        year = int(dxt[0:4])\n",
    "        month = int(dxt[5:7])\n",
    "        day = int(dxt[8:10])\n",
    "        hour = int(dxt[11:13])\n",
    "        minute = int(dxt[14:16])\n",
    "        second = int(dxt[17:19])\n",
    "        dt1 = datetime.datetime(\n",
    "            year, month, day, hour=hour, minute=minute, second=second)\n",
    "        delta = dt1-dt0\n",
    "        delta_sec = delta.total_seconds()\n",
    "        \n",
    "    return err_flag, delta_sec"
   ]
  },
  {
   "cell_type": "code",
   "execution_count": null,
   "metadata": {
    "collapsed": true
   },
   "outputs": [],
   "source": [
    "# Routine to get the hour minute and second and day of the week \n",
    "# adjusted from UTC to EST. Returns:\n",
    "# 1. hour\n",
    "# 2. minute \n",
    "# 3. second\n",
    "# 4. day of the week 0-6 M-Su\n",
    "# Note: no error checking, assumes past get_time() checks above \n",
    "def get_day(dxt,state):\n",
    "    from_zone = tz.gettz('UTC')\n",
    "    to_zone = tz.gettz(state)\n",
    "    year = int(dxt[0:4])\n",
    "    month = int(dxt[5:7])\n",
    "    day = int(dxt[8:10])\n",
    "    hour = int(dxt[11:13])\n",
    "    minute = int(dxt[14:16])\n",
    "    second = int(dxt[17:19])\n",
    "    dt_utc = datetime.datetime(\n",
    "        year, month, day, hour=hour, minute=minute, second=second)\n",
    "    dt_utc = dt_utc.replace(tzinfo=from_zone)\n",
    "    dt_local = dt_utc.astimezone(to_zone)\n",
    "    return [dt_local.hour, dt_local.minute, dt_local.second, dt_local.weekday()]"
   ]
  },
  {
   "cell_type": "code",
   "execution_count": null,
   "metadata": {
    "collapsed": true
   },
   "outputs": [],
   "source": []
  }
 ],
 "metadata": {
  "kernelspec": {
   "display_name": "Python 3",
   "language": "python",
   "name": "python3"
  },
  "language_info": {
   "codemirror_mode": {
    "name": "ipython",
    "version": 3
   },
   "file_extension": ".py",
   "mimetype": "text/x-python",
   "name": "python",
   "nbconvert_exporter": "python",
   "pygments_lexer": "ipython3",
   "version": "3.6.1"
  }
 },
 "nbformat": 4,
 "nbformat_minor": 2
}
