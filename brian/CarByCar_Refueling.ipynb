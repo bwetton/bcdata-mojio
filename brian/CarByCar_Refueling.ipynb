{
 "cells": [
  {
   "cell_type": "markdown",
   "metadata": {},
   "source": [
    "# Car by Car examination of time dependent data"
   ]
  },
  {
   "cell_type": "markdown",
   "metadata": {},
   "source": [
    "## Examples are speed and fuel but you could adapt to other things"
   ]
  },
  {
   "cell_type": "markdown",
   "metadata": {},
   "source": [
    "## Usual Library Imports"
   ]
  },
  {
   "cell_type": "code",
   "execution_count": null,
   "metadata": {
    "collapsed": true
   },
   "outputs": [],
   "source": [
    "import numpy as np\n",
    "import datetime\n",
    "from dateutil import tz\n",
    "import matplotlib.pyplot as plt\n",
    "import matplotlib\n",
    "import pandas as pd\n",
    "\n",
    "%matplotlib inline"
   ]
  },
  {
   "cell_type": "markdown",
   "metadata": {},
   "source": [
    "## Subroutine to load in from data set 1"
   ]
  },
  {
   "cell_type": "markdown",
   "metadata": {},
   "source": [
    "**David's ideas**"
   ]
  },
  {
   "cell_type": "markdown",
   "metadata": {},
   "source": [
    "**To do: do the same for data set 2**"
   ]
  },
  {
   "cell_type": "code",
   "execution_count": null,
   "metadata": {},
   "outputs": [],
   "source": [
    "def car1_loc_data(contents):\n",
    "    data_select=pd.DataFrame(columns=contents)\n",
    "    for n in np.arange(10):\n",
    "        print('n=',n,' of ten')\n",
    "        data_raw=pd.read_csv('~/data/5-Sanandaji/case_study_dt1.csv',\n",
    "                nrows=100000,skiprows=range(1,n*100000))\n",
    "        data_raw = data_raw[contents]\n",
    "        data_select=pd.concat([data_select,data_raw])\n",
    "        del data_raw\n",
    "    return data_select"
   ]
  },
  {
   "cell_type": "markdown",
   "metadata": {},
   "source": [
    "## Function to compute seconds after data start from a time stamp string"
   ]
  },
  {
   "cell_type": "code",
   "execution_count": null,
   "metadata": {
    "collapsed": true
   },
   "outputs": [],
   "source": [
    "# Routine takes time string from the data and gives back:\n",
    "# 1. flag = 0: for success, \n",
    "#           1: if the input is not a string, \n",
    "#           2: if it is not long enough\n",
    "# 2. seconds since February 1, 2016\n",
    "#\n",
    "def get_time(dxt):\n",
    "    err_flag = 0\n",
    "    delta_sec = 0\n",
    "    \n",
    "    dt0 = datetime.datetime(2016,6,9) # Measure time since June 9, 2016\n",
    "    \n",
    "    if not (type(dxt) is str):\n",
    "        err_flag = 1\n",
    "    elif len(dxt)<19:\n",
    "        err_flag = 2\n",
    "    else:\n",
    "        year = int(dxt[0:4])\n",
    "        month = int(dxt[5:7])\n",
    "        day = int(dxt[8:10])\n",
    "        hour = int(dxt[11:13])\n",
    "        minute = int(dxt[14:16])\n",
    "        second = int(dxt[17:19])\n",
    "        dt1 = datetime.datetime(\n",
    "            year, month, day, hour=hour, minute=minute, second=second)\n",
    "        delta = dt1-dt0\n",
    "        delta_sec = delta.total_seconds()\n",
    "        \n",
    "    return err_flag, delta_sec"
   ]
  },
  {
   "cell_type": "markdown",
   "metadata": {},
   "source": [
    "## Function to extract local time hour and day of the week"
   ]
  },
  {
   "cell_type": "code",
   "execution_count": null,
   "metadata": {
    "collapsed": true
   },
   "outputs": [],
   "source": [
    "# Routine to get the hour minute and second and day of the week \n",
    "# adjusted from UTC to EST. Returns:\n",
    "# 1. hour\n",
    "# 2. day of the week 0-6 M-Su\n",
    "# Note: no error checking, assumes past get_time() checks above \n",
    "def get_day(dxt,state):\n",
    "    from_zone = tz.gettz('UTC')\n",
    "    if state == np.nan:\n",
    "        state = \"UTC\"\n",
    "    to_zone = tz.gettz(state)\n",
    "    year = int(dxt[0:4])\n",
    "    month = int(dxt[5:7])\n",
    "    day = int(dxt[8:10])\n",
    "    hour = int(dxt[11:13])\n",
    "    minute = int(dxt[14:16])\n",
    "    second = int(dxt[17:19])\n",
    "    dt_utc = datetime.datetime(\n",
    "        year, month, day, hour=hour, minute=minute, second=second)\n",
    "    dt_utc = dt_utc.replace(tzinfo=from_zone)\n",
    "    dt_local = dt_utc.astimezone(to_zone)\n",
    "    return dt_local.hour, dt_local.weekday()"
   ]
  },
  {
   "cell_type": "markdown",
   "metadata": {},
   "source": [
    "## Load in the data from set 1 from the columns you want "
   ]
  },
  {
   "cell_type": "markdown",
   "metadata": {},
   "source": [
    "**Ten lots of size 100,000**\n",
    "\n",
    "**To do: append the data from set #2**"
   ]
  },
  {
   "cell_type": "markdown",
   "metadata": {},
   "source": [
    "*Notice that there are missing values in the set with nan values even in string columns*"
   ]
  },
  {
   "cell_type": "code",
   "execution_count": null,
   "metadata": {
    "scrolled": false
   },
   "outputs": [],
   "source": [
    "# columns to try and identify when vehicles are refueled \n",
    "cols_gas = [\"source_id\", \"source_Vehicle_Location_Timestamp\", \"source_Vehicle_Speed_Unit\", \n",
    "            \"source_Vehicle_Speed_Value\", \"source_Vehicle_FuelLevel_Value\", \n",
    "            \"source_Vehicle_Location_Address_State\"]\n",
    "data_gas = car1_loc_data(cols_gas)\n",
    "list(data_gas)"
   ]
  },
  {
   "cell_type": "markdown",
   "metadata": {},
   "source": [
    "## Read in the list of cars from set #1"
   ]
  },
  {
   "cell_type": "markdown",
   "metadata": {},
   "source": [
    "**To do: add the cars from set #2**"
   ]
  },
  {
   "cell_type": "code",
   "execution_count": null,
   "metadata": {},
   "outputs": [],
   "source": [
    "sources = pd.read_csv(\"~/bcdata-mojio/brian/test1_sources.txt\")\n",
    "sources = sources[\"Car IDs\"].values\n",
    "print('Number of cars:',sources.size)"
   ]
  },
  {
   "cell_type": "markdown",
   "metadata": {},
   "source": [
    "**Pick a car!**\n",
    "\n",
    "Get all the records for that car"
   ]
  },
  {
   "cell_type": "code",
   "execution_count": null,
   "metadata": {},
   "outputs": [],
   "source": [
    "car_number = 2\n",
    "car_info = data_gas[data_gas[\"source_id\"]==sources[car_number]]\n",
    "Ncar = car_info.shape[0] # number of records for this car"
   ]
  },
  {
   "cell_type": "markdown",
   "metadata": {},
   "source": [
    "**Get the states the car has visited. Fill in nan values**"
   ]
  },
  {
   "cell_type": "code",
   "execution_count": null,
   "metadata": {
    "scrolled": true
   },
   "outputs": [],
   "source": [
    "state = car_info[\"source_Vehicle_Location_Address_State\"].values\n",
    "for j in np.arange(Ncar):\n",
    "    if state[j] is np.nan:\n",
    "        state[j] = \"UTC\"\n",
    "print(np.unique(state))"
   ]
  },
  {
   "cell_type": "markdown",
   "metadata": {},
   "source": [
    "**See if the speeds are mph**"
   ]
  },
  {
   "cell_type": "code",
   "execution_count": null,
   "metadata": {},
   "outputs": [],
   "source": [
    "speed_units = car_info[\"source_Vehicle_Speed_Unit\"]\n",
    "print(np.unique(speed_units.values))"
   ]
  },
  {
   "cell_type": "markdown",
   "metadata": {},
   "source": [
    "**Compute the times of the records and plot the order in the data**\n",
    "\n",
    "*Note that the data is not sorted by time*"
   ]
  },
  {
   "cell_type": "code",
   "execution_count": null,
   "metadata": {
    "scrolled": false
   },
   "outputs": [],
   "source": [
    "time_string = car_info[\"source_Vehicle_Location_Timestamp\"].values\n",
    "time_seconds = np.zeros(Ncar)\n",
    "for j in np.arange(Ncar):\n",
    "    code, t = get_time(time_string[j])\n",
    "    if code != 0:\n",
    "        print('Error',code,' in get_time')\n",
    "    time_seconds[j] = t\n",
    "plt.xlabel('Data number')\n",
    "plt.ylabel('Seconds since June 9, 2016')\n",
    "plt.plot(np.arange(Ncar),time_seconds)\n",
    "plt.show()"
   ]
  },
  {
   "cell_type": "markdown",
   "metadata": {},
   "source": [
    "## Sort the car data by time"
   ]
  },
  {
   "cell_type": "code",
   "execution_count": null,
   "metadata": {
    "scrolled": true
   },
   "outputs": [],
   "source": [
    "car_info.insert(1,\"seconds\",time_seconds) # don't execute this twice"
   ]
  },
  {
   "cell_type": "code",
   "execution_count": null,
   "metadata": {
    "collapsed": true
   },
   "outputs": [],
   "source": [
    "car_info2 = car_info.sort_values(\"seconds\")\n",
    "time_sorted = car_info2[\"seconds\"].values"
   ]
  },
  {
   "cell_type": "markdown",
   "metadata": {},
   "source": [
    "## Now look at the time history for this car"
   ]
  },
  {
   "cell_type": "markdown",
   "metadata": {},
   "source": [
    "**Speed versus time**\n",
    "\n",
    "*Car #2 is a fast driver*"
   ]
  },
  {
   "cell_type": "code",
   "execution_count": null,
   "metadata": {
    "scrolled": true
   },
   "outputs": [],
   "source": [
    "speed = car_info2[\"source_Vehicle_Speed_Value\"].values\n",
    "plt.plot(time_sorted/24/3600,speed)\n",
    "plt.ylabel(\"Speed mph\")\n",
    "plt.xlabel(\"Time in days past June 9, 2016\")\n",
    "plt.show()"
   ]
  },
  {
   "cell_type": "markdown",
   "metadata": {},
   "source": [
    "**Now fuel % versus time**\n",
    "\n",
    "*You can clearly see where they refueled*"
   ]
  },
  {
   "cell_type": "code",
   "execution_count": null,
   "metadata": {},
   "outputs": [],
   "source": [
    "fuel = car_info2[\"source_Vehicle_FuelLevel_Value\"].values\n",
    "plt.plot(time_sorted/24/3600,fuel)\n",
    "plt.ylabel(\"Fuel %\")\n",
    "plt.xlabel(\"Time in days past June 9, 2016\")\n",
    "plt.show()"
   ]
  },
  {
   "cell_type": "markdown",
   "metadata": {},
   "source": [
    "### Tried to get a sense of when they refueled during the day\n",
    "\n",
    "*Looks like driver #2 refuels in the mornings*"
   ]
  },
  {
   "cell_type": "code",
   "execution_count": null,
   "metadata": {},
   "outputs": [],
   "source": [
    "time_string = car_info2[\"source_Vehicle_Location_Timestamp\"].values\n",
    "time_hour = np.zeros(Ncar)\n",
    "time_dayofweek = np.zeros(Ncar)\n",
    "for j in np.arange(Ncar):\n",
    "    hour, day = get_day(time_string[j],state[j])\n",
    "    time_hour[j] = hour\n",
    "    time_dayofweek[j] = day\n",
    "plt.xlabel('Day of the week (Monday to Sunday)')\n",
    "plt.ylabel('Hour of the day (local time)')\n",
    "plt.scatter(time_dayofweek, time_hour, c=fuel, alpha=1, cmap=\"inferno\")\n",
    "plt.colorbar()\n",
    "plt.show()"
   ]
  },
  {
   "cell_type": "markdown",
   "metadata": {},
   "source": [
    "## How about a speed scatter plot?\n",
    "\n",
    "**Seems to be dominated by the times the car is not moving**"
   ]
  },
  {
   "cell_type": "code",
   "execution_count": null,
   "metadata": {},
   "outputs": [],
   "source": [
    "plt.xlabel('Day of the week (Monday to Sunday)')\n",
    "plt.ylabel('Hour of the day (local time)')\n",
    "plt.scatter(time_dayofweek, time_hour, c=speed, alpha=1, cmap=\"inferno\")\n",
    "plt.colorbar()\n",
    "plt.show()"
   ]
  },
  {
   "cell_type": "code",
   "execution_count": null,
   "metadata": {
    "collapsed": true
   },
   "outputs": [],
   "source": []
  }
 ],
 "metadata": {
  "kernelspec": {
   "display_name": "Python 3",
   "language": "python",
   "name": "python3"
  },
  "language_info": {
   "codemirror_mode": {
    "name": "ipython",
    "version": 3
   },
   "file_extension": ".py",
   "mimetype": "text/x-python",
   "name": "python",
   "nbconvert_exporter": "python",
   "pygments_lexer": "ipython3",
   "version": "3.6.1"
  }
 },
 "nbformat": 4,
 "nbformat_minor": 2
}
