{
 "cells": [
  {
   "cell_type": "code",
   "execution_count": null,
   "metadata": {
    "collapsed": true
   },
   "outputs": [],
   "source": [
    "import numpy as np\n",
    "import datetime\n",
    "from dateutil import tz\n"
   ]
  },
  {
   "cell_type": "code",
   "execution_count": null,
   "metadata": {
    "collapsed": true
   },
   "outputs": [],
   "source": [
    "# Routine takes time string from the data and gives back:\n",
    "# 1. flag = 0: for success, \n",
    "#           1: if the input is not a string, \n",
    "#           2: if it is not long enough\n",
    "# 2. seconds since February 1, 2016\n",
    "#\n",
    "def get_time(dxt):\n",
    "    err_flag = 0\n",
    "    delta_sec = 0\n",
    "    \n",
    "    dt0 = datetime.datetime(2016,2,1) # Measure time since February 1, 2016\n",
    "    \n",
    "    if not (type(dxt) is str):\n",
    "        err_flag = 1\n",
    "    elif len(dxt)<19:\n",
    "        err_flag = 2\n",
    "    else:\n",
    "        year = int(dxt[0:4])\n",
    "        month = int(dxt[5:7])\n",
    "        day = int(dxt[8:10])\n",
    "        hour = int(dxt[11:13])\n",
    "        minute = int(dxt[14:16])\n",
    "        second = int(dxt[17:19])\n",
    "        dt1 = datetime.datetime(\n",
    "            year, month, day, hour=hour, minute=minute, second=second)\n",
    "        delta = dt1-dt0\n",
    "        delta_sec = delta.total_seconds()\n",
    "        \n",
    "    return err_flag, delta_sec"
   ]
  },
  {
   "cell_type": "code",
   "execution_count": null,
   "metadata": {},
   "outputs": [],
   "source": [
    "dxt = \"2016-02-12T20:14:31.7623982+00:00\"\n",
    "get_time(dxt)"
   ]
  },
  {
   "cell_type": "code",
   "execution_count": null,
   "metadata": {
    "collapsed": true
   },
   "outputs": [],
   "source": [
    "# Routine to get the hour minute and second and day of the week \n",
    "# adjusted from UTC to EST. Returns:\n",
    "# 1. hour\n",
    "# 2. minute \n",
    "# 3. second\n",
    "# 4. day of the week 0-6 M-Su\n",
    "# Note: no error checking, assumes past get_time() checks above \n",
    "def get_day(dxt,state):\n",
    "    from_zone = tz.gettz('UTC')\n",
    "    to_zone = tz.gettz(state)\n",
    "    year = int(dxt[0:4])\n",
    "    month = int(dxt[5:7])\n",
    "    day = int(dxt[8:10])\n",
    "    hour = int(dxt[11:13])\n",
    "    minute = int(dxt[14:16])\n",
    "    second = int(dxt[17:19])\n",
    "    dt_utc = datetime.datetime(\n",
    "        year, month, day, hour=hour, minute=minute, second=second)\n",
    "    dt_utc = dt_utc.replace(tzinfo=from_zone)\n",
    "    dt_local = dt_utc.astimezone(to_zone)\n",
    "    return [dt_local.hour, dt_local.minute, dt_local.second, dt_local.weekday()]"
   ]
  },
  {
   "cell_type": "code",
   "execution_count": null,
   "metadata": {},
   "outputs": [],
   "source": [
    "get_day(dxt,'Arizona')"
   ]
  },
  {
   "cell_type": "code",
   "execution_count": null,
   "metadata": {
    "collapsed": true
   },
   "outputs": [],
   "source": []
  }
 ],
 "metadata": {
  "kernelspec": {
   "display_name": "Python 3",
   "language": "python",
   "name": "python3"
  },
  "language_info": {
   "codemirror_mode": {
    "name": "ipython",
    "version": 3
   },
   "file_extension": ".py",
   "mimetype": "text/x-python",
   "name": "python",
   "nbconvert_exporter": "python",
   "pygments_lexer": "ipython3",
   "version": "3.6.1"
  }
 },
 "nbformat": 4,
 "nbformat_minor": 2
}
