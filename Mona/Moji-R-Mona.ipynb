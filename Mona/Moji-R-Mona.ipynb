{
 "cells": [
  {
   "cell_type": "code",
   "execution_count": null,
   "metadata": {},
   "outputs": [],
   "source": [
    "getwd()"
   ]
  },
  {
   "cell_type": "code",
   "execution_count": null,
   "metadata": {
    "collapsed": true
   },
   "outputs": [],
   "source": [
    "load('/home/monhab/data/5-Sanandaji/case_study_dt1.RData')"
   ]
  },
  {
   "cell_type": "code",
   "execution_count": null,
   "metadata": {},
   "outputs": [],
   "source": [
    "names(case_study_dt1)"
   ]
  },
  {
   "cell_type": "code",
   "execution_count": null,
   "metadata": {},
   "outputs": [],
   "source": [
    "length(unique(case_study_dt1$source_Vehicle_Id))"
   ]
  },
  {
   "cell_type": "code",
   "execution_count": null,
   "metadata": {},
   "outputs": [],
   "source": [
    "unique(case_study_dt1$source_Vehicle_VinDetails_Model)"
   ]
  },
  {
   "cell_type": "code",
   "execution_count": null,
   "metadata": {},
   "outputs": [],
   "source": [
    "sort(unique(case_study_dt1$source_Vehicle_VinDetails_Year))"
   ]
  },
  {
   "cell_type": "code",
   "execution_count": null,
   "metadata": {},
   "outputs": [],
   "source": [
    "unique(case_study_dt1$source_Vehicle_VinDetails_Make)"
   ]
  },
  {
   "cell_type": "code",
   "execution_count": null,
   "metadata": {},
   "outputs": [],
   "source": [
    "length(unique(case_study_dt1$source_Vehicle_Location_Address_City))"
   ]
  },
  {
   "cell_type": "code",
   "execution_count": null,
   "metadata": {},
   "outputs": [],
   "source": [
    "length(unique(case_study_dt1$source_Vehicle_Location_Address_State))"
   ]
  },
  {
   "cell_type": "code",
   "execution_count": null,
   "metadata": {},
   "outputs": [],
   "source": [
    "sub_case_dt1 <- head(case_study_dt1, n=50000)\n",
    "Transmission=unique(sub_case_dt1$source_Vehicle_VinDetails_Transmission)\n",
    "Transmission"
   ]
  },
  {
   "cell_type": "markdown",
   "metadata": {},
   "source": [
    "\n",
    "## Plotting \n"
   ]
  },
  {
   "cell_type": "code",
   "execution_count": null,
   "metadata": {
    "collapsed": true
   },
   "outputs": [],
   "source": [
    "sort_sub_case_dt1<-sub_case_dt1[!duplicated(sub_case_dt1$source_Vehicle_Id), , drop = FALSE]"
   ]
  },
  {
   "cell_type": "code",
   "execution_count": null,
   "metadata": {},
   "outputs": [],
   "source": [
    "library(ggplot2)\n",
    "Fuel_Type<-sort_sub_case_dt1$source_Vehicle_VinDetails_FuelType  # change the variable to any other time invariant\n",
    "#unique(y)\n",
    "ggplot(data.frame(Fuel_Type), aes(Fuel_Type,xlab=\"Fuel Type\")) +\n",
    "theme_bw() + theme(panel.border = element_blank(), panel.grid.major = element_blank(),\n",
    "panel.grid.minor = element_blank(), axis.text=element_text(size=10,face=\"bold\",angle=45, hjust=1 ),\n",
    "      axis.line = element_line(colour = \"black\"))+\n",
    "coord_fixed(ratio = 0.02)+\n",
    "geom_bar( , fill=\"blue\") #(stat=\"identity\", fill = \"#FF6666\")\n",
    "ggsave(\"FuelType.png\")"
   ]
  },
  {
   "cell_type": "code",
   "execution_count": null,
   "metadata": {},
   "outputs": [],
   "source": [
    "lbls <- unique(sort_sub_case_dt1$source_Vehicle_VinDetails_Transmission) # change the variable to any other time invariant\n",
    "no_occur <-data.frame(table(sort_sub_case_dt1$source_Vehicle_VinDetails_Transmission))\n",
    "pie(no_occur$Freq, labels = no_occur$Var1,col=rainbow(length(lbls)), main=\"Transmission\",cex=0.9)\n",
    "ggsave(\"Transmission.png\",\n",
    "  width = 3.25,\n",
    "  height = 3.25,\n",
    "  dpi = 1200)"
   ]
  },
  {
   "cell_type": "code",
   "execution_count": null,
   "metadata": {},
   "outputs": [],
   "source": [
    "Year<-sort_sub_case_dt1$source_Vehicle_VinDetails_Year # change the variable to any other time invariant\n",
    "#unique(y)\n",
    "ggplot(data.frame(Year), aes(Year,xlab=\"Fuel Type\")) +\n",
    "theme_bw() + theme(panel.border = element_blank(), panel.grid.major = element_blank(),\n",
    "panel.grid.minor = element_blank(), axis.text=element_text(size=10,face=\"bold\",angle=45, hjust=1 ),\n",
    "      axis.line = element_line(colour = \"black\"))+\n",
    "coord_fixed(ratio = 0.2)+\n",
    "geom_bar( , fill=\"blue\") #(stat=\"identity\", fill = \"#FF6666\")\n",
    "ggsave(\"Year.png\")"
   ]
  },
  {
   "cell_type": "code",
   "execution_count": null,
   "metadata": {},
   "outputs": [],
   "source": [
    "\n",
    "Model<-sort_sub_case_dt1$source_Vehicle_VinDetails_Model # change the variable to any other time invariant\n",
    "#unique(y)\n",
    "ggplot(data.frame(Model), aes(Model,xlab=\"Model\")) +\n",
    "theme_bw() + theme(panel.border = element_blank(), panel.grid.major = element_blank(),\n",
    "panel.grid.minor = element_blank(), axis.text=element_text(size=10,face=\"bold\",angle=45, hjust=1 ),\n",
    "      axis.line = element_line(colour = \"black\"))+\n",
    "coord_fixed(ratio = 0.2)+\n",
    "geom_bar( , fill=\"blue\") #(stat=\"identity\", fill = \"#FF6666\")\n",
    "ggsave(\"Model.png\")\n",
    "\n"
   ]
  },
  {
   "cell_type": "code",
   "execution_count": null,
   "metadata": {},
   "outputs": [],
   "source": [
    "States<-sort_sub_case_dt1$source_Vehicle_Location_Address_State  # change the variable to any other time invariant\n",
    "ggplot(data.frame(States), aes(States,xlab=\"States\")) +\n",
    "theme_bw() + theme(panel.border = element_blank(), panel.grid.major = element_blank(),\n",
    "panel.grid.minor = element_blank(), axis.text=element_text(size=10,face=\"bold\",angle=45, hjust=1 ),\n",
    "      axis.line = element_line(colour = \"black\"))+\n",
    "coord_fixed(ratio = 0.2)+\n",
    "geom_bar( , fill=\"blue\") #(stat=\"identity\", fill = \"#FF6666\")\n",
    "ggsave(\"States.png\")"
   ]
  },
  {
   "cell_type": "markdown",
   "metadata": {},
   "source": [
    "## Most popular model in each state\n"
   ]
  },
  {
   "cell_type": "code",
   "execution_count": null,
   "metadata": {},
   "outputs": [],
   "source": [
    "# Create a function that finds the most common element in an object\n",
    "most.common <- function(x) {\n",
    "  count <- sapply(unique(x), function(i) sum(x==i, na.rm=TRUE))\n",
    "  unique(x)[which(count==max(count))]\n",
    "}"
   ]
  },
  {
   "cell_type": "code",
   "execution_count": null,
   "metadata": {},
   "outputs": [],
   "source": [
    "col_headings <- c('state','Most_popular_Model')\n",
    "state_most_comm_model <-  data.frame(matrix(ncol = 2, nrow = 0))\n",
    "names(state_most_comm_model) <- col_headings                  \n",
    "for (state in unique(States)){\n",
    "    popular_model<-sort_sub_case_dt1[sort_sub_case_dt1$source_Vehicle_Location_Address_State==state,]\n",
    "    new_row <- data.frame(state=state,Most_popular_Model=most.common(popular_model$source_Vehicle_VinDetails_Model))  \n",
    "    state_most_comm_model <- rbind(state_most_comm_model,new_row)\n",
    "}\n",
    "state_most_comm_model"
   ]
  },
  {
   "cell_type": "code",
   "execution_count": null,
   "metadata": {},
   "outputs": [],
   "source": []
  },
  {
   "cell_type": "code",
   "execution_count": null,
   "metadata": {
    "collapsed": true
   },
   "outputs": [],
   "source": [
    "# Create a function that finds the most common element in an object\n",
    "most.common <- function(x) {\n",
    "  count <- sapply(unique(x), function(i) sum(x==i, na.rm=TRUE))\n",
    "  unique(x)[which(count==max(count))]\n",
    "}\n",
    "                  "
   ]
  },
  {
   "cell_type": "code",
   "execution_count": null,
   "metadata": {},
   "outputs": [],
   "source": [
    "most.common(popular_model$source_Vehicle_VinDetails_Model)"
   ]
  },
  {
   "cell_type": "code",
   "execution_count": null,
   "metadata": {},
   "outputs": [],
   "source": [
    "install.packages(c(\"maps\", \"mapdata\"))"
   ]
  },
  {
   "cell_type": "code",
   "execution_count": null,
   "metadata": {},
   "outputs": [],
   "source": [
    "#install.packages(\"ggmap\")\n",
    "#install.packages(\"maptools\")\n",
    "library(ggmap)\n",
    "library(maps)\n",
    "library(mapdata)\n",
    "library(maptools)"
   ]
  },
  {
   "cell_type": "code",
   "execution_count": null,
   "metadata": {},
   "outputs": [],
   "source": [
    "#states <- map('state')\n",
    "#dim(states)\n",
    "#ggplot(data = states) + \n",
    " # geom_polygon(aes(x = long, y = lat, fill = region, group = group), color = \"white\") + \n",
    " # coord_fixed(1.3) +\n",
    " # guides(fill=FALSE)  # do this to leave off the color legend"
   ]
  },
  {
   "cell_type": "code",
   "execution_count": null,
   "metadata": {},
   "outputs": [],
   "source": [
    "#install.packages(\"raster\")\n",
    "library(raster)\n",
    "\n",
    "us_states <- c(states$names)\n",
    "provinces <- c(\"British Columbia\", \"Ontario\", \"Québec\")\n",
    "\n",
    "us <- getData(\"GADM\",country=\"USA\",level=1)\n",
    "canada <- getData(\"GADM\",country=\"CAN\",level=1)\n",
    "\n",
    "us.states <- us[us$NAME_1 %in% us_states]\n",
    "ca.provinces <- canada[canada$NAME_1 %in% provinces,]\n",
    "\n",
    "us.bbox <- bbox(us.states)\n",
    "ca.bbox <- bbox(ca.provinces)\n",
    "xlim <- c(min(us.bbox[1,1],ca.bbox[1,1]),max(us.bbox[1,2],ca.bbox[1,2]))\n",
    "ylim <- c(min(us.bbox[2,1],ca.bbox[2,1]),max(us.bbox[2,2],ca.bbox[2,2]))\n",
    "plot(us.states, xlim, ylim)\n",
    "plot(ca.provinces, xlim, ylim, add=T) "
   ]
  },
  {
   "cell_type": "code",
   "execution_count": null,
   "metadata": {},
   "outputs": [],
   "source": [
    "xlim"
   ]
  },
  {
   "cell_type": "code",
   "execution_count": null,
   "metadata": {},
   "outputs": [],
   "source": [
    "ylim"
   ]
  },
  {
   "cell_type": "code",
   "execution_count": null,
   "metadata": {
    "collapsed": true
   },
   "outputs": [],
   "source": []
  }
 ],
 "metadata": {
  "kernelspec": {
   "display_name": "R",
   "language": "R",
   "name": "ir"
  },
  "language_info": {
   "codemirror_mode": "r",
   "file_extension": ".r",
   "mimetype": "text/x-r-source",
   "name": "R",
   "pygments_lexer": "r",
   "version": "3.3.2"
  }
 },
 "nbformat": 4,
 "nbformat_minor": 2
}
