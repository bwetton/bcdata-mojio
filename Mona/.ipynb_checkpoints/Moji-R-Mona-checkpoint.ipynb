{
 "cells": [
  {
   "cell_type": "code",
   "execution_count": null,
   "metadata": {},
   "outputs": [],
   "source": [
    "getwd()"
   ]
  },
  {
   "cell_type": "code",
   "execution_count": null,
   "metadata": {
    "collapsed": true
   },
   "outputs": [],
   "source": [
    "load('/home/monhab/data/5-Sanandaji/case_study_dt1.RData')"
   ]
  },
  {
   "cell_type": "code",
   "execution_count": null,
   "metadata": {},
   "outputs": [],
   "source": [
    "names(case_study_dt1)"
   ]
  },
  {
   "cell_type": "code",
   "execution_count": null,
   "metadata": {},
   "outputs": [],
   "source": [
    "length(unique(case_study_dt1$source_id))"
   ]
  },
  {
   "cell_type": "code",
   "execution_count": null,
   "metadata": {},
   "outputs": [],
   "source": [
    "unique(case_study_dt1$source_Vehicle_VinDetails_Model)"
   ]
  },
  {
   "cell_type": "code",
   "execution_count": null,
   "metadata": {},
   "outputs": [],
   "source": [
    "sort(unique(case_study_dt1$source_Vehicle_VinDetails_Year))"
   ]
  },
  {
   "cell_type": "code",
   "execution_count": null,
   "metadata": {},
   "outputs": [],
   "source": [
    "unique(case_study_dt1$source_Vehicle_VinDetails_Make)"
   ]
  },
  {
   "cell_type": "code",
   "execution_count": null,
   "metadata": {},
   "outputs": [],
   "source": [
    "length(unique(case_study_dt1$source_Vehicle_Location_Address_City))"
   ]
  },
  {
   "cell_type": "code",
   "execution_count": null,
   "metadata": {},
   "outputs": [],
   "source": [
    "length(unique(case_study_dt1$source_Vehicle_Location_Address_State))"
   ]
  },
  {
   "cell_type": "code",
   "execution_count": null,
   "metadata": {},
   "outputs": [],
   "source": [
    "sub_case_dt1 <- head(case_study_dt1, n=10000)\n",
    "Transmission=unique(sub_case_dt1$source_Vehicle_VinDetails_Transmission)\n",
    "Transmission"
   ]
  },
  {
   "cell_type": "markdown",
   "metadata": {},
   "source": [
    "\n",
    "## Plotting \n"
   ]
  },
  {
   "cell_type": "code",
   "execution_count": null,
   "metadata": {},
   "outputs": [],
   "source": [
    "sort_sub_case_dt1=sub_case_dt1[!duplicated(sub_case_dt1$source_Vehicle_Id), , drop = FALSE]"
   ]
  },
  {
   "cell_type": "code",
   "execution_count": null,
   "metadata": {},
   "outputs": [],
   "source": [
    "library(ggplot2)\n",
    "y<-sort_sub_case_dt1$source_Vehicle_VinDetails_FuelType  # change the variable to any other time invariant\n",
    "#unique(y)\n",
    "ggplot(data.frame(y), aes(x=y)) +\n",
    "theme(axis.text=element_text(size=10,face=\"bold\",angle=45,hjust=1 ),\n",
    "      axis.title=element_text(size=10,face=\"bold\"))+ coord_fixed(ratio = 0.15)+\n",
    "      ggtitle(\" \")+\n",
    "geom_bar()"
   ]
  },
  {
   "cell_type": "code",
   "execution_count": null,
   "metadata": {},
   "outputs": [],
   "source": [
    "y<-sort_sub_case_dt1$source_Vehicle_VinDetails_Transmission # change the variable to any other time invariant\n",
    "#unique(y)\n",
    "ggplot(data.frame(y), aes(x=y)) +\n",
    "theme(axis.text=element_text(size=10,face=\"bold\",angle=45,hjust=1 ),\n",
    "      axis.title=element_text(size=10,face=\"bold\"))+ coord_fixed(ratio = 0.1)+\n",
    "      ggtitle(\" \")+\n",
    "geom_bar()"
   ]
  },
  {
   "cell_type": "code",
   "execution_count": null,
   "metadata": {},
   "outputs": [],
   "source": [
    "y<-sort_sub_case_dt1$source_Vehicle_VinDetails_Year # change the variable to any other time invariant\n",
    "#unique(y)\n",
    "ggplot(data.frame(y), aes(x=y)) +\n",
    "theme(axis.text=element_text(size=10,face=\"bold\",angle=45,hjust=1 ),\n",
    "      axis.title=element_text(size=10,face=\"bold\"))+ coord_fixed(ratio = 0.1)+\n",
    "      ggtitle(\" \")+\n",
    "geom_bar()"
   ]
  },
  {
   "cell_type": "code",
   "execution_count": null,
   "metadata": {},
   "outputs": [],
   "source": [
    "\n",
    "y<-sort_sub_case_dt1$source_Vehicle_VinDetails_Model # change the variable to any other time invariant\n",
    "#unique(y)\n",
    "ggplot(data.frame(y), aes(x=y)) +\n",
    "theme(axis.text=element_text(size=10,face=\"bold\",angle=45,hjust=1 ),\n",
    "      axis.title=element_text(size=10,face=\"bold\"))+ coord_fixed(ratio = 0.1)+\n",
    "      ggtitle(\" \")+\n",
    "geom_bar()\n",
    "\n"
   ]
  },
  {
   "cell_type": "code",
   "execution_count": null,
   "metadata": {},
   "outputs": [],
   "source": [
    "y<-sort_sub_case_dt1$source_Vehicle_Location_Address_State  # change the variable to any other time invariant\n",
    "#unique(y)\n",
    "ggplot(data.frame(y), aes(x=y)) +\n",
    "theme(axis.text=element_text(size=10,face=\"bold\",angle=45,hjust=1 ),b\n",
    "      axis.title=element_text(size=10,face=\"bold\"))+ coord_fixed(ratio = 0.2)+\n",
    "      ggtitle(\" \")+\n",
    "geom_bar()"
   ]
  },
  {
   "cell_type": "markdown",
   "metadata": {},
   "source": [
    "## Most popular model in each state\n"
   ]
  },
  {
   "cell_type": "code",
   "execution_count": null,
   "metadata": {
    "collapsed": true
   },
   "outputs": [],
   "source": []
  }
 ],
 "metadata": {
  "kernelspec": {
   "display_name": "R",
   "language": "R",
   "name": "ir"
  },
  "language_info": {
   "codemirror_mode": "r",
   "file_extension": ".r",
   "mimetype": "text/x-r-source",
   "name": "R",
   "pygments_lexer": "r",
   "version": "3.3.2"
  }
 },
 "nbformat": 4,
 "nbformat_minor": 2
}
