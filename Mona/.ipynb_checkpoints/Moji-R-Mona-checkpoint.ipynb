{
 "cells": [
  {
   "cell_type": "code",
   "execution_count": null,
   "metadata": {
    "collapsed": true
   },
   "outputs": [],
   "source": [
    "getwd()"
   ]
  },
  {
   "cell_type": "code",
   "execution_count": null,
   "metadata": {
    "collapsed": true
   },
   "outputs": [],
   "source": [
    "#load('/home/monhab/data/5-Sanandaji/case_study.RData')\n",
    "load('/home/monhab/Mojio-project/Data.RData')"
   ]
  },
  {
   "cell_type": "code",
   "execution_count": null,
   "metadata": {},
   "outputs": [],
   "source": [
    "case_study <- Data\n",
    "names(case_study)"
   ]
  },
  {
   "cell_type": "code",
   "execution_count": null,
   "metadata": {
    "collapsed": true
   },
   "outputs": [],
   "source": [
    "length(unique(case_study$source_Vehicle_Id))"
   ]
  },
  {
   "cell_type": "code",
   "execution_count": null,
   "metadata": {
    "collapsed": true
   },
   "outputs": [],
   "source": [
    "unique(case_study$source_Vehicle_VinDetails_Model)"
   ]
  },
  {
   "cell_type": "code",
   "execution_count": null,
   "metadata": {
    "collapsed": true
   },
   "outputs": [],
   "source": [
    "sort(unique(case_study$source_Vehicle_VinDetails_Year))"
   ]
  },
  {
   "cell_type": "code",
   "execution_count": null,
   "metadata": {
    "collapsed": true
   },
   "outputs": [],
   "source": [
    "unique(case_study$source_Vehicle_VinDetails_Make)"
   ]
  },
  {
   "cell_type": "code",
   "execution_count": null,
   "metadata": {
    "collapsed": true
   },
   "outputs": [],
   "source": [
    "length(unique(case_study$source_Vehicle_Location_Address_City))"
   ]
  },
  {
   "cell_type": "code",
   "execution_count": null,
   "metadata": {
    "collapsed": true
   },
   "outputs": [],
   "source": [
    "length(unique(case_study$source_Vehicle_Location_Address_State))"
   ]
  },
  {
   "cell_type": "markdown",
   "metadata": {},
   "source": [
    "\n",
    "## Plotting \n"
   ]
  },
  {
   "cell_type": "code",
   "execution_count": null,
   "metadata": {
    "collapsed": true
   },
   "outputs": [],
   "source": [
    "sort_case_study<-case_study[!duplicated(case_study$source_Vehicle_Id), , drop = FALSE]"
   ]
  },
  {
   "cell_type": "code",
   "execution_count": null,
   "metadata": {
    "collapsed": true
   },
   "outputs": [],
   "source": [
    "#install.packages(\"dplyr\")\n",
    "library(dplyr)"
   ]
  },
  {
   "cell_type": "code",
   "execution_count": null,
   "metadata": {
    "collapsed": true
   },
   "outputs": [],
   "source": [
    "sort_case_state <- case_study[!is.na(sort_case_study$source_Vehicle_Location_Address_State),]\n",
    "sort_case_state <- sort_case_state[!duplicated(sort_case_study$source_Vehicle_Id,sort_case_study$source_Vehicle_Location_Address_State), ,drop = FALSE]"
   ]
  },
  {
   "cell_type": "code",
   "execution_count": null,
   "metadata": {},
   "outputs": [],
   "source": [
    "library(ggplot2)\n",
    "Fuel_Type<-sort_case_study$source_Vehicle_VinDetails_FuelType[!is.na(sort_case_study$source_Vehicle_VinDetails_FuelType)]  # change the variable to any other time invariant\n",
    "Fuel_Type<- Fuel_Type[!Fuel_Type==\"Y\"]\n",
    "Fuel_Type<- Fuel_Type[!Fuel_Type==\"F\"]\n",
    "ggplot(data.frame(Fuel_Type), aes(Fuel_Type,xlab=\"Fuel Type\")) +\n",
    "theme_bw() + theme(panel.border = element_blank(), panel.grid.major = element_blank(),\n",
    "panel.grid.minor = element_blank(), axis.text=element_text(size=10,face=\"bold\",angle=45, hjust=1 ),\n",
    "      axis.line = element_line(colour = \"black\"))+\n",
    "coord_fixed(ratio = 0.02)+\n",
    "geom_bar( , fill=\"blue\") #(stat=\"identity\", fill = \"#FF6666\")\n",
    "ggsave(\"FuelType.png\")"
   ]
  },
  {
   "cell_type": "code",
   "execution_count": null,
   "metadata": {},
   "outputs": [],
   "source": [
    "lbls <- unique(sort_case_study$source_Vehicle_VinDetails_Transmission) # change the variable to any other time invariant\n",
    "no_occur <- data.frame(table(sort_case_study$source_Vehicle_VinDetails_Transmission))\n",
    "no_occur <- no_occur[order(no_occur$Var1),]\n",
    "pie(no_occur$Freq, labels = no_occur$Var1,col=rainbow(length(lbls)), main=\"Transmission\",cex=0.9)\n",
    "ggsave(\"Transmission.png\",\n",
    "  width = 5,\n",
    "  height = 5,\n",
    "  dpi = 1200)"
   ]
  },
  {
   "cell_type": "code",
   "execution_count": null,
   "metadata": {},
   "outputs": [],
   "source": [
    "Year<-sort_case_study$source_Vehicle_VinDetails_Year # change the variable to any other time invariant\n",
    "Year <- Year[ order(Year, decreasing=TRUE)]  # Use built-in R functions\n",
    "ggplot(data.frame(Year), aes(Year,xlab=\"Fuel Type\")) +\n",
    "theme_bw() + theme(panel.border = element_blank(), panel.grid.major = element_blank(),\n",
    "panel.grid.minor = element_blank(), axis.text=element_text(size=10,face=\"bold\",angle=45, hjust=1 ),\n",
    "      axis.line = element_line(colour = \"black\"))+\n",
    "coord_fixed(ratio = 0.05)+\n",
    "geom_bar( , fill=\"blue\") #(stat=\"identity\", fill = \"#FF6666\")\n",
    "ggsave(\"Year.png\")"
   ]
  },
  {
   "cell_type": "code",
   "execution_count": null,
   "metadata": {},
   "outputs": [],
   "source": [
    "lbls <- unique(sort_case_study$source_Vehicle_VinDetails_Make) # change the variable to any other time invariant\n",
    "no_occur <-data.frame(table(sort_case_study$source_Vehicle_VinDetails_Make))\n",
    "no_occur <- no_occur[order(no_occur$Var1),]\n",
    "pie(no_occur$Freq, labels = no_occur$Var1,col=rainbow(length(lbls)), main=\"Make\",cex=0.9)\n",
    "ggsave(\"Make.png\",\n",
    "  width = 3.25,\n",
    "  height = 3.25,\n",
    "  dpi = 1200)"
   ]
  },
  {
   "cell_type": "code",
   "execution_count": null,
   "metadata": {},
   "outputs": [],
   "source": [
    "Make<-sort_case_study$source_Vehicle_VinDetails_Make # change the variable to any other time invariant\n",
    "#unique(y)\n",
    "ggplot(data.frame(Make), aes(Make,xlab=\"Make\")) +\n",
    "theme_bw() + theme(panel.border = element_blank(), panel.grid.major = element_blank(),\n",
    "panel.grid.minor = element_blank(), axis.text=element_text(size=10,face=\"bold\",angle=45, hjust=1 ),\n",
    "      axis.line = element_line(colour = \"black\"))+\n",
    "coord_fixed(ratio = 0.05)+\n",
    "geom_bar( , fill=\"blue\") #(stat=\"identity\", fill = \"#FF6666\")\n",
    "ggsave(\"Make-hist.png\")"
   ]
  },
  {
   "cell_type": "code",
   "execution_count": null,
   "metadata": {},
   "outputs": [],
   "source": [
    "\n",
    "Model<-sort_case_study$source_Vehicle_VinDetails_Model # change the variable to any other time invariant\n",
    "#unique(y)\n",
    "ggplot(data.frame(Model), aes(Model,xlab=\"Model\")) +\n",
    "theme_bw() + theme(panel.border = element_blank(), panel.grid.major = element_blank(),\n",
    "panel.grid.minor = element_blank(), axis.text=element_text(size=10,face=\"bold\",angle=45, hjust=1 ),\n",
    "      axis.line = element_line(colour = \"black\"))+\n",
    "coord_fixed(ratio = 0.2)+\n",
    "geom_bar( , fill=\"blue\") #(stat=\"identity\", fill = \"#FF6666\")\n",
    "ggsave(\"Model.png\")"
   ]
  },
  {
   "cell_type": "code",
   "execution_count": null,
   "metadata": {
    "collapsed": true
   },
   "outputs": [],
   "source": [
    "States<-sort_case_study$source_Vehicle_Location_Address_State # change the variable to any other time invariant\n",
    "length(States)\n",
    "ggplot(data.frame(States), aes(States,xlab=\"States\")) +\n",
    "theme_bw() + theme(panel.border = element_blank(), panel.grid.major = element_blank(),\n",
    "panel.grid.minor = element_blank(), axis.text=element_text(size=10,face=\"bold\",angle=45, hjust=1 ),\n",
    "      axis.line = element_line(colour = \"black\"))+\n",
    "coord_fixed(ratio = 0.1)+\n",
    "geom_bar( , fill=\"blue\") #(stat=\"identity\", fill = \"#FF6666\")\n",
    "ggsave(\"States.png\")"
   ]
  },
  {
   "cell_type": "markdown",
   "metadata": {},
   "source": [
    "## Most popular model in each state\n"
   ]
  },
  {
   "cell_type": "code",
   "execution_count": null,
   "metadata": {
    "collapsed": true
   },
   "outputs": [],
   "source": [
    "# Create a function that finds the most common element in an object\n",
    "most.common <- function(x) {\n",
    "  count <- sapply(unique(x), function(i) sum(x==i, na.rm=TRUE))\n",
    "  unique(x)[which(count==max(count))]\n",
    "}"
   ]
  },
  {
   "cell_type": "code",
   "execution_count": null,
   "metadata": {},
   "outputs": [],
   "source": [
    "col_headings <- c('state','Most_popular_Model','Number_of_cars')\n",
    "state_most_comm_model <- data.frame(matrix(ncol = 3, nrow = 0))\n",
    "names(state_most_comm_model) <- col_headings     \n",
    "States <- States[!is.na(States)]\n",
    "for (state in unique(States)){\n",
    "    popular_model<-sort_case_study[sort_case_study$source_Vehicle_Location_Address_State==state,]\n",
    "    new_row <- data.frame(state=state,Most_popular_Model=most.common(popular_model$source_Vehicle_VinDetails_Model),Number_cars=length(States[States==state]))  \n",
    "    state_most_comm_model <- rbind(state_most_comm_model,new_row)\n",
    "}\n",
    "state_most_comm_model"
   ]
  },
  {
   "cell_type": "code",
   "execution_count": null,
   "metadata": {
    "collapsed": true
   },
   "outputs": [],
   "source": [
    "#install.packages(c(\"maps\", \"mapdata\"))"
   ]
  },
  {
   "cell_type": "code",
   "execution_count": null,
   "metadata": {
    "collapsed": true
   },
   "outputs": [],
   "source": [
    "#install.packages(\"ggmap\")\n",
    "#install.packages(\"maptools\")\n",
    "if(\"package:dplyr\" %in% search()) detach(\"package:vegan\", unload=TRUE)\n",
    "library(ggmap)\n",
    "library(maps)\n",
    "library(mapdata)\n",
    "library(maptools)"
   ]
  },
  {
   "cell_type": "code",
   "execution_count": null,
   "metadata": {
    "collapsed": true
   },
   "outputs": [],
   "source": [
    "states <- map('state')\n",
    "#dim(states)\n",
    "#ggplot(data = states) + \n",
    " # geom_polygon(aes(x = long, y = lat, fill = region, group = group), color = \"white\") + \n",
    " # coord_fixed(1.3) +\n",
    " # guides(fill=FALSE)  # do this to leave off the color legend"
   ]
  },
  {
   "cell_type": "code",
   "execution_count": null,
   "metadata": {
    "collapsed": true
   },
   "outputs": [],
   "source": [
    "#install.packages(\"raster\")\n",
    "library(raster)\n",
    "\n",
    "us_states <- c(states$names)\n",
    "provinces <- c(\"British Columbia\", \"Ontario\", \"Québec\")\n",
    "\n",
    "us <- getData(\"GADM\",country=\"USA\",level=1)\n",
    "canada <- getData(\"GADM\",country=\"CAN\",level=1)\n",
    "\n",
    "us.states <- us[us$NAME_1 %in% us_states]\n",
    "ca.provinces <- canada[canada$NAME_1 %in% provinces,]\n",
    "\n",
    "us.bbox <- bbox(us.states)\n",
    "ca.bbox <- bbox(ca.provinces)\n",
    "xlim <- c(min(us.bbox[1,1],ca.bbox[1,1]),max(us.bbox[1,2],ca.bbox[1,2]))\n",
    "ylim <- c(min(us.bbox[2,1],ca.bbox[2,1]),max(us.bbox[2,2],ca.bbox[2,2]))\n",
    "plot(us.states, xlim=c(-180,50),ylim=c(-10,10))\n",
    "plot(ca.provinces,xlim=c(-180,50),ylim=c(-10,10),add=T) "
   ]
  },
  {
   "cell_type": "code",
   "execution_count": null,
   "metadata": {
    "collapsed": true
   },
   "outputs": [],
   "source": [
    "library(ggmap)"
   ]
  },
  {
   "cell_type": "code",
   "execution_count": null,
   "metadata": {},
   "outputs": [],
   "source": [
    "usa_center = as.numeric(geocode(\"Montana\"))\n",
    "USAMap = ggmap(get_googlemap(center=usa_center, scale=1, zoom=3), extent=\"normal\")"
   ]
  },
  {
   "cell_type": "code",
   "execution_count": null,
   "metadata": {},
   "outputs": [],
   "source": [
    "for (i in 1:nrow(state_most_comm_model)) {\n",
    "  latlon = geocode(as.character(state_most_comm_model$state[i]))\n",
    "  state_most_comm_model$lon[i] = as.numeric(latlon[1])\n",
    "  state_most_comm_model$lat[i] = as.numeric(latlon[2])\n",
    "}"
   ]
  },
  {
   "cell_type": "code",
   "execution_count": null,
   "metadata": {},
   "outputs": [],
   "source": [
    "USAMap +\n",
    "geom_point(aes(x=lon, y=lat), data=state_most_comm_model, col=\"red\", alpha=0.4, size=log10(state_most_comm_model$Number_cars)*3)+ \n",
    "scale_size_continuous(range=range(state_most_comm_model$Number_cars))"
   ]
  },
  {
   "cell_type": "code",
   "execution_count": null,
   "metadata": {
    "collapsed": true
   },
   "outputs": [],
   "source": [
    "ggsave(\"number_cars_states.png\")"
   ]
  },
  {
   "cell_type": "markdown",
   "metadata": {
    "collapsed": true
   },
   "source": [
    "## Location for each car"
   ]
  },
  {
   "cell_type": "code",
   "execution_count": null,
   "metadata": {},
   "outputs": [],
   "source": [
    "car1 <- case_study[case_study$source_Vehicle_Id==case_study$source_Vehicle_Id[1],]\n",
    "car1 <- car1[!is.na(car1$source_Vehicle_Location_Address_City),]\n",
    "unique(car1$source_Vehicle_Location_Address_City)"
   ]
  },
  {
   "cell_type": "code",
   "execution_count": null,
   "metadata": {
    "collapsed": true
   },
   "outputs": [],
   "source": [
    "ggplot(car1, aes(x=car1$source_Vehicle_Location_Lng, y=car1$source_Vehicle_Location_Lat)) + geom_point()"
   ]
  },
  {
   "cell_type": "code",
   "execution_count": null,
   "metadata": {},
   "outputs": [],
   "source": [
    "for (i in 1:nrow(car1)) {\n",
    "  latlon = geocode(as.character(car1$source_Vehicle_Location_Address_City[i]))\n",
    "  car1$lon[i] = as.numeric(latlon[1])\n",
    "  car1$lat[i] = as.numeric(latlon[2])\n",
    "}"
   ]
  },
  {
   "cell_type": "code",
   "execution_count": null,
   "metadata": {
    "collapsed": true
   },
   "outputs": [],
   "source": []
  }
 ],
 "metadata": {
  "kernelspec": {
   "display_name": "R",
   "language": "R",
   "name": "ir"
  },
  "language_info": {
   "codemirror_mode": "r",
   "file_extension": ".r",
   "mimetype": "text/x-r-source",
   "name": "R",
   "pygments_lexer": "r",
   "version": "3.3.2"
  }
 },
 "nbformat": 4,
 "nbformat_minor": 2
}
