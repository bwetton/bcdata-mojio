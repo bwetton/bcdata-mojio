{
 "cells": [
  {
   "cell_type": "markdown",
   "metadata": {},
   "source": [
    "## Import useful Python packages"
   ]
  },
  {
   "cell_type": "code",
   "execution_count": null,
   "metadata": {
    "collapsed": true
   },
   "outputs": [],
   "source": [
    "import numpy as np\n",
    "import matplotlib.pyplot as plt\n",
    "import matplotlib\n",
    "import pandas as pd\n",
    "from sklearn import linear_model\n",
    "from sklearn import preprocessing\n",
    "\n",
    "%matplotlib inline"
   ]
  },
  {
   "cell_type": "markdown",
   "metadata": {},
   "source": [
    "## Load first 5 rows for all columns and then show the column names"
   ]
  },
  {
   "cell_type": "code",
   "execution_count": null,
   "metadata": {},
   "outputs": [],
   "source": [
    "#Load the data\n",
    "data = pd.read_csv('/home/monhab/data/5-Sanandaji/case_study_dt1.csv',sep=';',nrows=5)\n",
    "data.style"
   ]
  },
  {
   "cell_type": "code",
   "execution_count": null,
   "metadata": {},
   "outputs": [],
   "source": [
    "# Lets select data names corresponding to battery data (just as an example, this can be expanded)\n",
    "cols_Batt = [\"source_Vehicle_Battery_RiskSeverity\",\"source_Vehicle_Battery_LowVoltageDuration_Timestamp\",\"source_Vehicle_Battery_LowVoltageDuration_Unit\",\"source_Vehicle_Battery_LowVoltageDuration_Value\",\"source_Vehicle_Battery_HighVoltageDuration_Timestamp\",\"source_Vehicle_Battery_HighVoltageDuration_Unit\",\"source_Vehicle_Battery_HighVoltageDuration_Value\",\"source_Vehicle_Battery_Timestamp\",\"source_Vehicle_Battery_Unit\",\"source_Vehicle_Battery_Value\"]\n",
    "# Note: need to change leerippon into your username\n",
    "data_Batt = pd.read_csv('/home/monhab/data/5-Sanandaji/case_study_dt1.csv',names=cols_Batt)\n",
    "print(data_Batt.head())"
   ]
  },
  {
   "cell_type": "code",
   "execution_count": null,
   "metadata": {},
   "outputs": [],
   "source": [
    "# Lets select data names corresponding to location data (just as an example, this can be expanded)\n",
    "cols_loc = [\"source_Vehicle_Location_Address_City\",\"source_Vehicle_Location_Address_County\",\"source_Vehicle_Location_Address_State\",\"source_Vehicle_Location_Address_Country\",\"source_Vehicle_Location_Address_CountryCode\",\"source_Vehicle_Location_Timestamp\",\"source_Vehicle_Location_Lat\",\"source_Vehicle_Location_Lng\",\"source_Vehicle_Location_Status\",\"source_Vehicle_Location_Dilution\",\"source_Vehicle_Location_Altitude\",\"source_Vehicle_Location_Accuracy_Timestamp\",\"source_Vehicle_Location_Accuracy_Unit\",\"source_Vehicle_Location_Accuracy_Value\"]\n",
    "data_loc = pd.read_csv('/home/leerippon/data/5-Sanandaji/case_study_dt1.csv',names=cols_loc)\n",
    "print(data_loc.head())"
   ]
  },
  {
   "cell_type": "code",
   "execution_count": null,
   "metadata": {
    "collapsed": true
   },
   "outputs": [],
   "source": [
    "print(data_loc.head())"
   ]
  },
  {
   "cell_type": "code",
   "execution_count": null,
   "metadata": {
    "collapsed": true
   },
   "outputs": [],
   "source": []
  }
 ],
 "metadata": {
  "kernelspec": {
   "display_name": "Python 3",
   "language": "python",
   "name": "python3"
  },
  "language_info": {
   "codemirror_mode": {
    "name": "ipython",
    "version": 3
   },
   "file_extension": ".py",
   "mimetype": "text/x-python",
   "name": "python",
   "nbconvert_exporter": "python",
   "pygments_lexer": "ipython3",
   "version": "3.6.1"
  }
 },
 "nbformat": 4,
 "nbformat_minor": 2
}
